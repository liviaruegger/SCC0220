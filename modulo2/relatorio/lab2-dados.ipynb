{
  "nbformat": 4,
  "nbformat_minor": 0,
  "metadata": {
    "colab": {
      "name": "lab2.ipynb",
      "provenance": [],
      "collapsed_sections": []
    },
    "kernelspec": {
      "display_name": "Python 3",
      "name": "python3"
    },
    "language_info": {
      "name": "python"
    }
  },
  "cells": [
    {
      "cell_type": "code",
      "metadata": {
        "id": "YYGlFc2knu8h"
      },
      "source": [
        "import matplotlib.pyplot as plt\n",
        "import pandas as pd\n",
        "import numpy as np"
      ],
      "execution_count": null,
      "outputs": []
    },
    {
      "cell_type": "markdown",
      "metadata": {
        "id": "_wHbfFwPwWa8"
      },
      "source": [
        "# **TESTE 1**"
      ]
    },
    {
      "cell_type": "code",
      "metadata": {
        "colab": {
          "base_uri": "https://localhost:8080/",
          "height": 206
        },
        "id": "N1wZgHYjpL9b",
        "outputId": "4536d12f-748f-4428-a0b1-c7e04aafcf3b"
      },
      "source": [
        "df_quick_original = pd.read_csv('drive/MyDrive/dados/teste1/quick.csv')\n",
        "df_quick_original.head()"
      ],
      "execution_count": null,
      "outputs": [
        {
          "output_type": "execute_result",
          "data": {
            "text/html": [
              "<div>\n",
              "<style scoped>\n",
              "    .dataframe tbody tr th:only-of-type {\n",
              "        vertical-align: middle;\n",
              "    }\n",
              "\n",
              "    .dataframe tbody tr th {\n",
              "        vertical-align: top;\n",
              "    }\n",
              "\n",
              "    .dataframe thead th {\n",
              "        text-align: right;\n",
              "    }\n",
              "</style>\n",
              "<table border=\"1\" class=\"dataframe\">\n",
              "  <thead>\n",
              "    <tr style=\"text-align: right;\">\n",
              "      <th></th>\n",
              "      <th>vector_type</th>\n",
              "      <th>vector_size</th>\n",
              "      <th>iteration</th>\n",
              "      <th>execution_time</th>\n",
              "    </tr>\n",
              "  </thead>\n",
              "  <tbody>\n",
              "    <tr>\n",
              "      <th>0</th>\n",
              "      <td>0</td>\n",
              "      <td>25</td>\n",
              "      <td>1</td>\n",
              "      <td>0.000005</td>\n",
              "    </tr>\n",
              "    <tr>\n",
              "      <th>1</th>\n",
              "      <td>0</td>\n",
              "      <td>25</td>\n",
              "      <td>2</td>\n",
              "      <td>0.000004</td>\n",
              "    </tr>\n",
              "    <tr>\n",
              "      <th>2</th>\n",
              "      <td>0</td>\n",
              "      <td>25</td>\n",
              "      <td>3</td>\n",
              "      <td>0.000003</td>\n",
              "    </tr>\n",
              "    <tr>\n",
              "      <th>3</th>\n",
              "      <td>0</td>\n",
              "      <td>25</td>\n",
              "      <td>4</td>\n",
              "      <td>0.000003</td>\n",
              "    </tr>\n",
              "    <tr>\n",
              "      <th>4</th>\n",
              "      <td>0</td>\n",
              "      <td>25</td>\n",
              "      <td>5</td>\n",
              "      <td>0.000002</td>\n",
              "    </tr>\n",
              "  </tbody>\n",
              "</table>\n",
              "</div>"
            ],
            "text/plain": [
              "   vector_type  vector_size  iteration  execution_time\n",
              "0            0           25          1        0.000005\n",
              "1            0           25          2        0.000004\n",
              "2            0           25          3        0.000003\n",
              "3            0           25          4        0.000003\n",
              "4            0           25          5        0.000002"
            ]
          },
          "metadata": {},
          "execution_count": 86
        }
      ]
    },
    {
      "cell_type": "code",
      "metadata": {
        "colab": {
          "base_uri": "https://localhost:8080/",
          "height": 206
        },
        "id": "L8UwuI6KpMEM",
        "outputId": "a4931a36-b9f9-4e75-d105-48dbe77422c8"
      },
      "source": [
        "df_heap_original = pd.read_csv('drive/MyDrive/dados/teste1/heap.csv')\n",
        "df_heap_original.head()"
      ],
      "execution_count": null,
      "outputs": [
        {
          "output_type": "execute_result",
          "data": {
            "text/html": [
              "<div>\n",
              "<style scoped>\n",
              "    .dataframe tbody tr th:only-of-type {\n",
              "        vertical-align: middle;\n",
              "    }\n",
              "\n",
              "    .dataframe tbody tr th {\n",
              "        vertical-align: top;\n",
              "    }\n",
              "\n",
              "    .dataframe thead th {\n",
              "        text-align: right;\n",
              "    }\n",
              "</style>\n",
              "<table border=\"1\" class=\"dataframe\">\n",
              "  <thead>\n",
              "    <tr style=\"text-align: right;\">\n",
              "      <th></th>\n",
              "      <th>vector_type</th>\n",
              "      <th>vector_size</th>\n",
              "      <th>iteration</th>\n",
              "      <th>execution_time</th>\n",
              "    </tr>\n",
              "  </thead>\n",
              "  <tbody>\n",
              "    <tr>\n",
              "      <th>0</th>\n",
              "      <td>0</td>\n",
              "      <td>25</td>\n",
              "      <td>1</td>\n",
              "      <td>0.000004</td>\n",
              "    </tr>\n",
              "    <tr>\n",
              "      <th>1</th>\n",
              "      <td>0</td>\n",
              "      <td>25</td>\n",
              "      <td>2</td>\n",
              "      <td>0.000004</td>\n",
              "    </tr>\n",
              "    <tr>\n",
              "      <th>2</th>\n",
              "      <td>0</td>\n",
              "      <td>25</td>\n",
              "      <td>3</td>\n",
              "      <td>0.000003</td>\n",
              "    </tr>\n",
              "    <tr>\n",
              "      <th>3</th>\n",
              "      <td>0</td>\n",
              "      <td>25</td>\n",
              "      <td>4</td>\n",
              "      <td>0.000003</td>\n",
              "    </tr>\n",
              "    <tr>\n",
              "      <th>4</th>\n",
              "      <td>0</td>\n",
              "      <td>25</td>\n",
              "      <td>5</td>\n",
              "      <td>0.000003</td>\n",
              "    </tr>\n",
              "  </tbody>\n",
              "</table>\n",
              "</div>"
            ],
            "text/plain": [
              "   vector_type  vector_size  iteration  execution_time\n",
              "0            0           25          1        0.000004\n",
              "1            0           25          2        0.000004\n",
              "2            0           25          3        0.000003\n",
              "3            0           25          4        0.000003\n",
              "4            0           25          5        0.000003"
            ]
          },
          "metadata": {},
          "execution_count": 87
        }
      ]
    },
    {
      "cell_type": "code",
      "metadata": {
        "colab": {
          "base_uri": "https://localhost:8080/",
          "height": 607
        },
        "id": "aiXn67FMqkVv",
        "outputId": "5a914577-9ca5-4103-9955-d1139fc254f0"
      },
      "source": [
        "quick = df_quick_original[['vector_size', 'execution_time']].groupby('vector_size').agg(np.mean)\n",
        "heap = df_heap_original[['vector_size', 'execution_time']].groupby('vector_size').agg(np.mean)\n",
        "\n",
        "plt.figure(figsize=[10, 10])\n",
        "plt.xlabel('Tamanho do vetor')\n",
        "plt.ylabel('Tempo de execução médio [s]')\n",
        "\n",
        "plt.plot(quick['execution_time'], 'o-', label='Quick Sort')\n",
        "plt.plot(heap['execution_time'], 'o-', label='Heap Sort')\n",
        "\n",
        "plt.legend()\n",
        "plt.savefig('drive/MyDrive/dados/teste1/comparacao_1.pdf')"
      ],
      "execution_count": null,
      "outputs": [
        {
          "output_type": "display_data",
          "data": {
            "image/png": "[encoded data removed]",
            "text/plain": [
              "<Figure size 720x720 with 1 Axes>"
            ]
          },
          "metadata": {
            "needs_background": "light"
          }
        }
      ]
    },
    {
      "cell_type": "code",
      "metadata": {
        "colab": {
          "base_uri": "https://localhost:8080/"
        },
        "id": "JFT9LPTLw2l8",
        "outputId": "46441beb-e6c8-44fc-9fd9-c4775df80ca0"
      },
      "source": [
        "quick.to_csv(\"drive/MyDrive/dados/teste1/quick_media.csv\",float_format='%.6f')\n",
        "\n",
        "media_quick = pd.read_csv(\"drive/MyDrive/dados/teste1/quick_media.csv\")\n",
        "print(media_quick)"
      ],
      "execution_count": null,
      "outputs": [
        {
          "output_type": "stream",
          "name": "stdout",
          "text": [
            "    vector_size  execution_time\n",
            "0            25        0.000003\n",
            "1           100        0.000009\n",
            "2           500        0.000059\n",
            "3          1000        0.000126\n",
            "4          2500        0.000296\n",
            "5          5000        0.000678\n",
            "6          7500        0.001151\n",
            "7         10000        0.001510\n",
            "8         15000        0.002300\n",
            "9         20000        0.002731\n",
            "10        25000        0.003396\n",
            "11        30000        0.004278\n",
            "12        35000        0.004967\n",
            "13        40000        0.005708\n",
            "14        45000        0.006185\n",
            "15        50000        0.007425\n",
            "16        55000        0.007901\n",
            "17        60000        0.008458\n",
            "18        65000        0.009106\n",
            "19        70000        0.010163\n",
            "20        75000        0.011181\n",
            "21        80000        0.012034\n",
            "22        85000        0.012664\n",
            "23        90000        0.013683\n",
            "24        95000        0.015500\n",
            "25       100000        0.015319\n"
          ]
        }
      ]
    },
    {
      "cell_type": "code",
      "metadata": {
        "colab": {
          "base_uri": "https://localhost:8080/"
        },
        "id": "rzQUG_jm2teI",
        "outputId": "3c0fe0f7-3597-4e89-c3ca-116baa53e00a"
      },
      "source": [
        "heap.to_csv(\"drive/MyDrive/dados/teste1/heap_media.csv\",float_format='%.6f')\n",
        "\n",
        "media_heap = pd.read_csv(\"drive/MyDrive/dados/teste1/heap_media.csv\")\n",
        "print(media_heap)"
      ],
      "execution_count": null,
      "outputs": [
        {
          "output_type": "stream",
          "name": "stdout",
          "text": [
            "    vector_size  execution_time\n",
            "0            25        0.000003\n",
            "1           100        0.000015\n",
            "2           500        0.000088\n",
            "3          1000        0.000208\n",
            "4          2500        0.000590\n",
            "5          5000        0.001168\n",
            "6          7500        0.002148\n",
            "7         10000        0.002609\n",
            "8         15000        0.003999\n",
            "9         20000        0.004659\n",
            "10        25000        0.006063\n",
            "11        30000        0.007200\n",
            "12        35000        0.008834\n",
            "13        40000        0.010005\n",
            "14        45000        0.011241\n",
            "15        50000        0.012831\n",
            "16        55000        0.013972\n",
            "17        60000        0.015794\n",
            "18        65000        0.016506\n",
            "19        70000        0.018348\n",
            "20        75000        0.020101\n",
            "21        80000        0.021834\n",
            "22        85000        0.023353\n",
            "23        90000        0.025459\n",
            "24        95000        0.027366\n",
            "25       100000        0.028721\n"
          ]
        }
      ]
    },
    {
      "cell_type": "markdown",
      "metadata": {
        "id": "dY7Ymf-g3Fzz"
      },
      "source": [
        "# **TESTE 2**"
      ]
    },
    {
      "cell_type": "code",
      "metadata": {
        "colab": {
          "base_uri": "https://localhost:8080/",
          "height": 206
        },
        "id": "_Hx3hwmL3dMJ",
        "outputId": "44857301-307c-4015-c6dd-46223679a2db"
      },
      "source": [
        "df2_bubble_original = pd.read_csv('drive/MyDrive/dados/teste2/bubble.csv')\n",
        "df2_bubble_original.head()"
      ],
      "execution_count": null,
      "outputs": [
        {
          "output_type": "execute_result",
          "data": {
            "text/html": [
              "<div>\n",
              "<style scoped>\n",
              "    .dataframe tbody tr th:only-of-type {\n",
              "        vertical-align: middle;\n",
              "    }\n",
              "\n",
              "    .dataframe tbody tr th {\n",
              "        vertical-align: top;\n",
              "    }\n",
              "\n",
              "    .dataframe thead th {\n",
              "        text-align: right;\n",
              "    }\n",
              "</style>\n",
              "<table border=\"1\" class=\"dataframe\">\n",
              "  <thead>\n",
              "    <tr style=\"text-align: right;\">\n",
              "      <th></th>\n",
              "      <th>vector_type</th>\n",
              "      <th>vector_size</th>\n",
              "      <th>iteration</th>\n",
              "      <th>execution_time</th>\n",
              "    </tr>\n",
              "  </thead>\n",
              "  <tbody>\n",
              "    <tr>\n",
              "      <th>0</th>\n",
              "      <td>0</td>\n",
              "      <td>25</td>\n",
              "      <td>1</td>\n",
              "      <td>0.000004</td>\n",
              "    </tr>\n",
              "    <tr>\n",
              "      <th>1</th>\n",
              "      <td>0</td>\n",
              "      <td>25</td>\n",
              "      <td>2</td>\n",
              "      <td>0.000003</td>\n",
              "    </tr>\n",
              "    <tr>\n",
              "      <th>2</th>\n",
              "      <td>0</td>\n",
              "      <td>25</td>\n",
              "      <td>3</td>\n",
              "      <td>0.000003</td>\n",
              "    </tr>\n",
              "    <tr>\n",
              "      <th>3</th>\n",
              "      <td>0</td>\n",
              "      <td>25</td>\n",
              "      <td>4</td>\n",
              "      <td>0.000002</td>\n",
              "    </tr>\n",
              "    <tr>\n",
              "      <th>4</th>\n",
              "      <td>0</td>\n",
              "      <td>25</td>\n",
              "      <td>5</td>\n",
              "      <td>0.000002</td>\n",
              "    </tr>\n",
              "  </tbody>\n",
              "</table>\n",
              "</div>"
            ],
            "text/plain": [
              "   vector_type  vector_size  iteration  execution_time\n",
              "0            0           25          1        0.000004\n",
              "1            0           25          2        0.000003\n",
              "2            0           25          3        0.000003\n",
              "3            0           25          4        0.000002\n",
              "4            0           25          5        0.000002"
            ]
          },
          "metadata": {},
          "execution_count": 3
        }
      ]
    },
    {
      "cell_type": "code",
      "metadata": {
        "colab": {
          "base_uri": "https://localhost:8080/",
          "height": 206
        },
        "id": "hHLiew-I4C4E",
        "outputId": "38f1daf2-eb60-46d4-9d1f-7d151f948d61"
      },
      "source": [
        "df2_insertion_original = pd.read_csv('drive/MyDrive/dados/teste2/insertion.csv')\n",
        "df2_insertion_original.head()"
      ],
      "execution_count": null,
      "outputs": [
        {
          "output_type": "execute_result",
          "data": {
            "text/html": [
              "<div>\n",
              "<style scoped>\n",
              "    .dataframe tbody tr th:only-of-type {\n",
              "        vertical-align: middle;\n",
              "    }\n",
              "\n",
              "    .dataframe tbody tr th {\n",
              "        vertical-align: top;\n",
              "    }\n",
              "\n",
              "    .dataframe thead th {\n",
              "        text-align: right;\n",
              "    }\n",
              "</style>\n",
              "<table border=\"1\" class=\"dataframe\">\n",
              "  <thead>\n",
              "    <tr style=\"text-align: right;\">\n",
              "      <th></th>\n",
              "      <th>vector_type</th>\n",
              "      <th>vector_size</th>\n",
              "      <th>iteration</th>\n",
              "      <th>execution_time</th>\n",
              "    </tr>\n",
              "  </thead>\n",
              "  <tbody>\n",
              "    <tr>\n",
              "      <th>0</th>\n",
              "      <td>0</td>\n",
              "      <td>25</td>\n",
              "      <td>1</td>\n",
              "      <td>0.000002</td>\n",
              "    </tr>\n",
              "    <tr>\n",
              "      <th>1</th>\n",
              "      <td>0</td>\n",
              "      <td>25</td>\n",
              "      <td>2</td>\n",
              "      <td>0.000001</td>\n",
              "    </tr>\n",
              "    <tr>\n",
              "      <th>2</th>\n",
              "      <td>0</td>\n",
              "      <td>25</td>\n",
              "      <td>3</td>\n",
              "      <td>0.000001</td>\n",
              "    </tr>\n",
              "    <tr>\n",
              "      <th>3</th>\n",
              "      <td>0</td>\n",
              "      <td>25</td>\n",
              "      <td>4</td>\n",
              "      <td>0.000002</td>\n",
              "    </tr>\n",
              "    <tr>\n",
              "      <th>4</th>\n",
              "      <td>0</td>\n",
              "      <td>25</td>\n",
              "      <td>5</td>\n",
              "      <td>0.000002</td>\n",
              "    </tr>\n",
              "  </tbody>\n",
              "</table>\n",
              "</div>"
            ],
            "text/plain": [
              "   vector_type  vector_size  iteration  execution_time\n",
              "0            0           25          1        0.000002\n",
              "1            0           25          2        0.000001\n",
              "2            0           25          3        0.000001\n",
              "3            0           25          4        0.000002\n",
              "4            0           25          5        0.000002"
            ]
          },
          "metadata": {},
          "execution_count": 4
        }
      ]
    },
    {
      "cell_type": "code",
      "metadata": {
        "colab": {
          "base_uri": "https://localhost:8080/",
          "height": 206
        },
        "id": "I3oG9rAF4RQF",
        "outputId": "63324c56-b10a-4ba8-89f3-57715e000662"
      },
      "source": [
        "df2_merge_original = pd.read_csv('drive/MyDrive/dados/teste2/merge.csv')\n",
        "df2_merge_original.head()"
      ],
      "execution_count": null,
      "outputs": [
        {
          "output_type": "execute_result",
          "data": {
            "text/html": [
              "<div>\n",
              "<style scoped>\n",
              "    .dataframe tbody tr th:only-of-type {\n",
              "        vertical-align: middle;\n",
              "    }\n",
              "\n",
              "    .dataframe tbody tr th {\n",
              "        vertical-align: top;\n",
              "    }\n",
              "\n",
              "    .dataframe thead th {\n",
              "        text-align: right;\n",
              "    }\n",
              "</style>\n",
              "<table border=\"1\" class=\"dataframe\">\n",
              "  <thead>\n",
              "    <tr style=\"text-align: right;\">\n",
              "      <th></th>\n",
              "      <th>vector_type</th>\n",
              "      <th>vector_size</th>\n",
              "      <th>iteration</th>\n",
              "      <th>execution_time</th>\n",
              "    </tr>\n",
              "  </thead>\n",
              "  <tbody>\n",
              "    <tr>\n",
              "      <th>0</th>\n",
              "      <td>0</td>\n",
              "      <td>25</td>\n",
              "      <td>1</td>\n",
              "      <td>0.000005</td>\n",
              "    </tr>\n",
              "    <tr>\n",
              "      <th>1</th>\n",
              "      <td>0</td>\n",
              "      <td>25</td>\n",
              "      <td>2</td>\n",
              "      <td>0.000003</td>\n",
              "    </tr>\n",
              "    <tr>\n",
              "      <th>2</th>\n",
              "      <td>0</td>\n",
              "      <td>25</td>\n",
              "      <td>3</td>\n",
              "      <td>0.000002</td>\n",
              "    </tr>\n",
              "    <tr>\n",
              "      <th>3</th>\n",
              "      <td>0</td>\n",
              "      <td>25</td>\n",
              "      <td>4</td>\n",
              "      <td>0.000003</td>\n",
              "    </tr>\n",
              "    <tr>\n",
              "      <th>4</th>\n",
              "      <td>0</td>\n",
              "      <td>25</td>\n",
              "      <td>5</td>\n",
              "      <td>0.000002</td>\n",
              "    </tr>\n",
              "  </tbody>\n",
              "</table>\n",
              "</div>"
            ],
            "text/plain": [
              "   vector_type  vector_size  iteration  execution_time\n",
              "0            0           25          1        0.000005\n",
              "1            0           25          2        0.000003\n",
              "2            0           25          3        0.000002\n",
              "3            0           25          4        0.000003\n",
              "4            0           25          5        0.000002"
            ]
          },
          "metadata": {},
          "execution_count": 5
        }
      ]
    },
    {
      "cell_type": "code",
      "metadata": {
        "colab": {
          "base_uri": "https://localhost:8080/",
          "height": 206
        },
        "id": "UYB9nNz44kKg",
        "outputId": "162e3490-4c33-4092-d935-447c0391a10e"
      },
      "source": [
        "df2_quick_original = pd.read_csv('drive/MyDrive/dados/teste2/quick.csv')\n",
        "df2_quick_original.head()"
      ],
      "execution_count": null,
      "outputs": [
        {
          "output_type": "execute_result",
          "data": {
            "text/html": [
              "<div>\n",
              "<style scoped>\n",
              "    .dataframe tbody tr th:only-of-type {\n",
              "        vertical-align: middle;\n",
              "    }\n",
              "\n",
              "    .dataframe tbody tr th {\n",
              "        vertical-align: top;\n",
              "    }\n",
              "\n",
              "    .dataframe thead th {\n",
              "        text-align: right;\n",
              "    }\n",
              "</style>\n",
              "<table border=\"1\" class=\"dataframe\">\n",
              "  <thead>\n",
              "    <tr style=\"text-align: right;\">\n",
              "      <th></th>\n",
              "      <th>vector_type</th>\n",
              "      <th>vector_size</th>\n",
              "      <th>iteration</th>\n",
              "      <th>execution_time</th>\n",
              "    </tr>\n",
              "  </thead>\n",
              "  <tbody>\n",
              "    <tr>\n",
              "      <th>0</th>\n",
              "      <td>0</td>\n",
              "      <td>25</td>\n",
              "      <td>1</td>\n",
              "      <td>0.000003</td>\n",
              "    </tr>\n",
              "    <tr>\n",
              "      <th>1</th>\n",
              "      <td>0</td>\n",
              "      <td>25</td>\n",
              "      <td>2</td>\n",
              "      <td>0.000003</td>\n",
              "    </tr>\n",
              "    <tr>\n",
              "      <th>2</th>\n",
              "      <td>0</td>\n",
              "      <td>25</td>\n",
              "      <td>3</td>\n",
              "      <td>0.000002</td>\n",
              "    </tr>\n",
              "    <tr>\n",
              "      <th>3</th>\n",
              "      <td>0</td>\n",
              "      <td>25</td>\n",
              "      <td>4</td>\n",
              "      <td>0.000002</td>\n",
              "    </tr>\n",
              "    <tr>\n",
              "      <th>4</th>\n",
              "      <td>0</td>\n",
              "      <td>25</td>\n",
              "      <td>5</td>\n",
              "      <td>0.000001</td>\n",
              "    </tr>\n",
              "  </tbody>\n",
              "</table>\n",
              "</div>"
            ],
            "text/plain": [
              "   vector_type  vector_size  iteration  execution_time\n",
              "0            0           25          1        0.000003\n",
              "1            0           25          2        0.000003\n",
              "2            0           25          3        0.000002\n",
              "3            0           25          4        0.000002\n",
              "4            0           25          5        0.000001"
            ]
          },
          "metadata": {},
          "execution_count": 6
        }
      ]
    },
    {
      "cell_type": "code",
      "metadata": {
        "colab": {
          "base_uri": "https://localhost:8080/",
          "height": 206
        },
        "id": "XqvDdFuG4wP1",
        "outputId": "af92dfbe-3584-41a3-ba96-51cda9dd2238"
      },
      "source": [
        "df2_heap_original = pd.read_csv('drive/MyDrive/dados/teste2/heap.csv')\n",
        "df2_heap_original.head()"
      ],
      "execution_count": null,
      "outputs": [
        {
          "output_type": "execute_result",
          "data": {
            "text/html": [
              "<div>\n",
              "<style scoped>\n",
              "    .dataframe tbody tr th:only-of-type {\n",
              "        vertical-align: middle;\n",
              "    }\n",
              "\n",
              "    .dataframe tbody tr th {\n",
              "        vertical-align: top;\n",
              "    }\n",
              "\n",
              "    .dataframe thead th {\n",
              "        text-align: right;\n",
              "    }\n",
              "</style>\n",
              "<table border=\"1\" class=\"dataframe\">\n",
              "  <thead>\n",
              "    <tr style=\"text-align: right;\">\n",
              "      <th></th>\n",
              "      <th>vector_type</th>\n",
              "      <th>vector_size</th>\n",
              "      <th>iteration</th>\n",
              "      <th>execution_time</th>\n",
              "    </tr>\n",
              "  </thead>\n",
              "  <tbody>\n",
              "    <tr>\n",
              "      <th>0</th>\n",
              "      <td>0</td>\n",
              "      <td>25</td>\n",
              "      <td>1</td>\n",
              "      <td>0.000003</td>\n",
              "    </tr>\n",
              "    <tr>\n",
              "      <th>1</th>\n",
              "      <td>0</td>\n",
              "      <td>25</td>\n",
              "      <td>2</td>\n",
              "      <td>0.000002</td>\n",
              "    </tr>\n",
              "    <tr>\n",
              "      <th>2</th>\n",
              "      <td>0</td>\n",
              "      <td>25</td>\n",
              "      <td>3</td>\n",
              "      <td>0.000002</td>\n",
              "    </tr>\n",
              "    <tr>\n",
              "      <th>3</th>\n",
              "      <td>0</td>\n",
              "      <td>25</td>\n",
              "      <td>4</td>\n",
              "      <td>0.000002</td>\n",
              "    </tr>\n",
              "    <tr>\n",
              "      <th>4</th>\n",
              "      <td>0</td>\n",
              "      <td>25</td>\n",
              "      <td>5</td>\n",
              "      <td>0.000002</td>\n",
              "    </tr>\n",
              "  </tbody>\n",
              "</table>\n",
              "</div>"
            ],
            "text/plain": [
              "   vector_type  vector_size  iteration  execution_time\n",
              "0            0           25          1        0.000003\n",
              "1            0           25          2        0.000002\n",
              "2            0           25          3        0.000002\n",
              "3            0           25          4        0.000002\n",
              "4            0           25          5        0.000002"
            ]
          },
          "metadata": {},
          "execution_count": 7
        }
      ]
    },
    {
      "cell_type": "code",
      "metadata": {
        "colab": {
          "base_uri": "https://localhost:8080/",
          "height": 606
        },
        "id": "DEkOE0GO5PP3",
        "outputId": "bd47437a-2a45-4062-bad2-64cf60095bad"
      },
      "source": [
        "bubble2 = df2_bubble_original[['vector_size', 'execution_time']].groupby('vector_size').agg(np.mean)\n",
        "insertion2 = df2_insertion_original[['vector_size', 'execution_time']].groupby('vector_size').agg(np.mean)\n",
        "merge2 = df2_merge_original[['vector_size', 'execution_time']].groupby('vector_size').agg(np.mean)\n",
        "quick2 = df2_quick_original[['vector_size', 'execution_time']].groupby('vector_size').agg(np.mean)\n",
        "heap2 = df2_heap_original[['vector_size', 'execution_time']].groupby('vector_size').agg(np.mean)\n",
        "\n",
        "plt.figure(figsize=[10, 10])\n",
        "plt.xlabel('Tamanho do vetor')\n",
        "plt.ylabel('Tempo de execução médio [s]')\n",
        "\n",
        "plt.plot(bubble2['execution_time'], 'o-', label='Bubble Sort')\n",
        "plt.plot(insertion2['execution_time'], 'o-', label='Insertion Sort')\n",
        "plt.plot(merge2['execution_time'], 'o-', label='Merge Sort')\n",
        "plt.plot(quick2['execution_time'], 'o-', label='Quick Sort')\n",
        "plt.plot(heap2['execution_time'], 'o-', label='Heap Sort')\n",
        "\n",
        "plt.legend()\n",
        "plt.savefig('drive/MyDrive/dados/teste2/comparacao_2.pdf')\n",
        "\n"
      ],
      "execution_count": null,
      "outputs": [
        {
          "output_type": "display_data",
          "data": {
            "image/png": "[encoded data removed]",
            "text/plain": [
              "<Figure size 720x720 with 1 Axes>"
            ]
          },
          "metadata": {
            "needs_background": "light"
          }
        }
      ]
    },
    {
      "cell_type": "code",
      "metadata": {
        "colab": {
          "base_uri": "https://localhost:8080/",
          "height": 606
        },
        "id": "nM2kkn_H_PyF",
        "outputId": "97fd8354-7eb1-4878-c9cb-20ccbd746740"
      },
      "source": [
        "plt.figure(figsize=[10, 10])\n",
        "plt.xlabel('Tamanho do vetor')\n",
        "plt.ylabel('Tempo de execução médio [s]')\n",
        "\n",
        "plt.plot(merge2['execution_time'], 'o-', label='Merge Sort')\n",
        "plt.plot(quick2['execution_time'], 'o-', label='Quick Sort')\n",
        "plt.plot(heap2['execution_time'], 'o-', label='Heap Sort')\n",
        "\n",
        "plt.legend()\n",
        "plt.savefig('drive/MyDrive/dados/teste2/comparacao2_2.pdf')"
      ],
      "execution_count": null,
      "outputs": [
        {
          "output_type": "display_data",
          "data": {
            "image/png": "[encoded data removed]",
            "text/plain": [
              "<Figure size 720x720 with 1 Axes>"
            ]
          },
          "metadata": {
            "needs_background": "light"
          }
        }
      ]
    },
    {
      "cell_type": "code",
      "metadata": {
        "id": "g1mga-DjHB9A"
      },
      "source": [
        "bubble2.to_csv(\"drive/MyDrive/dados/teste2/bubble2_media.csv\",float_format='%.6f')\n",
        "insertion2.to_csv(\"drive/MyDrive/dados/teste2/insertion2_media.csv\",float_format='%.6f')\n",
        "merge2.to_csv(\"drive/MyDrive/dados/teste2/merge2_media.csv\",float_format='%.6f')\n",
        "quick2.to_csv(\"drive/MyDrive/dados/teste2/quick2_media.csv\",float_format='%.6f')\n",
        "heap2.to_csv(\"drive/MyDrive/dados/teste2/heap2_media.csv\",float_format='%.6f')"
      ],
      "execution_count": null,
      "outputs": []
    },
    {
      "cell_type": "markdown",
      "metadata": {
        "id": "6m3m-KvuIxTr"
      },
      "source": [
        "# **TESTE 3**"
      ]
    },
    {
      "cell_type": "code",
      "metadata": {
        "colab": {
          "base_uri": "https://localhost:8080/"
        },
        "id": "nCGwxUJMI08q",
        "outputId": "06117e19-eeb6-4aeb-a123-379e8ae55f1a"
      },
      "source": [
        "df3_bubble = pd.read_csv('drive/MyDrive/dados/teste3/bubble.csv')\n",
        "df3_insertion = pd.read_csv('drive/MyDrive/dados/teste3/insertion.csv')\n",
        "df3_merge = pd.read_csv('drive/MyDrive/dados/teste3/merge.csv')\n",
        "df3_quick = pd.read_csv('drive/MyDrive/dados/teste3/quick.csv')\n",
        "df3_heap = pd.read_csv('drive/MyDrive/dados/teste3/heap.csv')\n",
        "\n",
        "bubble3 = df3_bubble[['vector_type','execution_time']].groupby('vector_type').agg(np.mean)\n",
        "insertion3 = df3_insertion[['vector_type','execution_time']].groupby('vector_type').agg(np.mean)\n",
        "merge3 = df3_merge[['vector_type','execution_time']].groupby('vector_type').agg(np.mean)\n",
        "quick3 = df3_quick[['vector_type','execution_time']].groupby('vector_type').agg(np.mean)\n",
        "heap3 = df3_heap[['vector_type','execution_time']].groupby('vector_type').agg(np.mean)\n",
        "\n",
        "print(bubble3)\n",
        "print(insertion3)\n",
        "print(merge3)\n",
        "print(quick3)\n",
        "print(heap3)\n",
        "\n",
        "bubble3.to_csv(\"drive/MyDrive/dados/teste3/bubble3_media.csv\",float_format='%.6f')\n",
        "insertion3.to_csv(\"drive/MyDrive/dados/teste3/insertion3_media.csv\",float_format='%.6f')\n",
        "merge3.to_csv(\"drive/MyDrive/dados/teste3/merge3_media.csv\",float_format='%.6f')\n",
        "quick3.to_csv(\"drive/MyDrive/dados/teste3/quick3_media.csv\",float_format='%.6f')\n",
        "heap3.to_csv(\"drive/MyDrive/dados/teste3/heap3_media.csv\",float_format='%.6f')"
      ],
      "execution_count": null,
      "outputs": [
        {
          "output_type": "stream",
          "name": "stdout",
          "text": [
            "             execution_time\n",
            "vector_type                \n",
            "0                  0.002829\n",
            "1                  0.001492\n",
            "2                  0.003550\n",
            "             execution_time\n",
            "vector_type                \n",
            "0                  0.001202\n",
            "1                  0.000006\n",
            "2                  0.002418\n",
            "             execution_time\n",
            "vector_type                \n",
            "0                  0.000184\n",
            "1                  0.000114\n",
            "2                  0.000114\n",
            "             execution_time\n",
            "vector_type                \n",
            "0                  0.000119\n",
            "1                  0.001255\n",
            "2                  0.001395\n",
            "             execution_time\n",
            "vector_type                \n",
            "0                  0.000188\n",
            "1                  0.000170\n",
            "2                  0.000163\n"
          ]
        }
      ]
    }
  ]
}