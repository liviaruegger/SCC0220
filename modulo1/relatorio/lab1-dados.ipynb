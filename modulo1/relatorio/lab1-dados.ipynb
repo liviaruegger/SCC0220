{
  "nbformat": 4,
  "nbformat_minor": 0,
  "metadata": {
    "colab": {
      "name": "lab1.ipynb",
      "provenance": [],
      "collapsed_sections": []
    },
    "kernelspec": {
      "name": "python3",
      "display_name": "Python 3"
    },
    "language_info": {
      "name": "python"
    }
  },
  "cells": [
    {
      "cell_type": "code",
      "metadata": {
        "id": "1tGbcchcVX5y"
      },
      "source": [
        "import matplotlib.pyplot as plt\n",
        "import pandas as pd\n",
        "import numpy as np"
      ],
      "execution_count": null,
      "outputs": []
    },
    {
      "cell_type": "code",
      "metadata": {
        "colab": {
          "base_uri": "https://localhost:8080/",
          "height": 204
        },
        "id": "Ll0XrXHaGkMd",
        "outputId": "7a4d8319-3634-48a5-db82-f0b7ccb2dda4"
      },
      "source": [
        "df1 = pd.read_csv('teste02/bubble.csv')\n",
        "df1.head()"
      ],
      "execution_count": null,
      "outputs": [
        {
          "output_type": "execute_result",
          "data": {
            "text/html": [
              "<div>\n",
              "<style scoped>\n",
              "    .dataframe tbody tr th:only-of-type {\n",
              "        vertical-align: middle;\n",
              "    }\n",
              "\n",
              "    .dataframe tbody tr th {\n",
              "        vertical-align: top;\n",
              "    }\n",
              "\n",
              "    .dataframe thead th {\n",
              "        text-align: right;\n",
              "    }\n",
              "</style>\n",
              "<table border=\"1\" class=\"dataframe\">\n",
              "  <thead>\n",
              "    <tr style=\"text-align: right;\">\n",
              "      <th></th>\n",
              "      <th>vector_type</th>\n",
              "      <th>vector_size</th>\n",
              "      <th>iteration</th>\n",
              "      <th>execution_time</th>\n",
              "    </tr>\n",
              "  </thead>\n",
              "  <tbody>\n",
              "    <tr>\n",
              "      <th>0</th>\n",
              "      <td>0</td>\n",
              "      <td>25</td>\n",
              "      <td>1</td>\n",
              "      <td>0.000005</td>\n",
              "    </tr>\n",
              "    <tr>\n",
              "      <th>1</th>\n",
              "      <td>0</td>\n",
              "      <td>25</td>\n",
              "      <td>2</td>\n",
              "      <td>0.000003</td>\n",
              "    </tr>\n",
              "    <tr>\n",
              "      <th>2</th>\n",
              "      <td>0</td>\n",
              "      <td>25</td>\n",
              "      <td>3</td>\n",
              "      <td>0.000003</td>\n",
              "    </tr>\n",
              "    <tr>\n",
              "      <th>3</th>\n",
              "      <td>0</td>\n",
              "      <td>25</td>\n",
              "      <td>4</td>\n",
              "      <td>0.000003</td>\n",
              "    </tr>\n",
              "    <tr>\n",
              "      <th>4</th>\n",
              "      <td>0</td>\n",
              "      <td>25</td>\n",
              "      <td>5</td>\n",
              "      <td>0.000003</td>\n",
              "    </tr>\n",
              "  </tbody>\n",
              "</table>\n",
              "</div>"
            ],
            "text/plain": [
              "   vector_type  vector_size  iteration  execution_time\n",
              "0            0           25          1        0.000005\n",
              "1            0           25          2        0.000003\n",
              "2            0           25          3        0.000003\n",
              "3            0           25          4        0.000003\n",
              "4            0           25          5        0.000003"
            ]
          },
          "metadata": {},
          "execution_count": 65
        }
      ]
    },
    {
      "cell_type": "code",
      "metadata": {
        "colab": {
          "base_uri": "https://localhost:8080/",
          "height": 203
        },
        "id": "zZ-AWcUxH3xZ",
        "outputId": "fc0ea34b-b7dc-4ac3-f170-ff31e714d995"
      },
      "source": [
        "df2 = pd.read_csv('teste02/insertion.csv')\n",
        "df2.head()"
      ],
      "execution_count": null,
      "outputs": [
        {
          "output_type": "execute_result",
          "data": {
            "text/html": [
              "<div>\n",
              "<style scoped>\n",
              "    .dataframe tbody tr th:only-of-type {\n",
              "        vertical-align: middle;\n",
              "    }\n",
              "\n",
              "    .dataframe tbody tr th {\n",
              "        vertical-align: top;\n",
              "    }\n",
              "\n",
              "    .dataframe thead th {\n",
              "        text-align: right;\n",
              "    }\n",
              "</style>\n",
              "<table border=\"1\" class=\"dataframe\">\n",
              "  <thead>\n",
              "    <tr style=\"text-align: right;\">\n",
              "      <th></th>\n",
              "      <th>vector_type</th>\n",
              "      <th>vector_size</th>\n",
              "      <th>iteration</th>\n",
              "      <th>execution_time</th>\n",
              "    </tr>\n",
              "  </thead>\n",
              "  <tbody>\n",
              "    <tr>\n",
              "      <th>0</th>\n",
              "      <td>0</td>\n",
              "      <td>25</td>\n",
              "      <td>1</td>\n",
              "      <td>0.000002</td>\n",
              "    </tr>\n",
              "    <tr>\n",
              "      <th>1</th>\n",
              "      <td>0</td>\n",
              "      <td>25</td>\n",
              "      <td>2</td>\n",
              "      <td>0.000002</td>\n",
              "    </tr>\n",
              "    <tr>\n",
              "      <th>2</th>\n",
              "      <td>0</td>\n",
              "      <td>25</td>\n",
              "      <td>3</td>\n",
              "      <td>0.000002</td>\n",
              "    </tr>\n",
              "    <tr>\n",
              "      <th>3</th>\n",
              "      <td>0</td>\n",
              "      <td>25</td>\n",
              "      <td>4</td>\n",
              "      <td>0.000002</td>\n",
              "    </tr>\n",
              "    <tr>\n",
              "      <th>4</th>\n",
              "      <td>0</td>\n",
              "      <td>25</td>\n",
              "      <td>5</td>\n",
              "      <td>0.000002</td>\n",
              "    </tr>\n",
              "  </tbody>\n",
              "</table>\n",
              "</div>"
            ],
            "text/plain": [
              "   vector_type  vector_size  iteration  execution_time\n",
              "0            0           25          1        0.000002\n",
              "1            0           25          2        0.000002\n",
              "2            0           25          3        0.000002\n",
              "3            0           25          4        0.000002\n",
              "4            0           25          5        0.000002"
            ]
          },
          "metadata": {},
          "execution_count": 5
        }
      ]
    },
    {
      "cell_type": "code",
      "metadata": {
        "colab": {
          "base_uri": "https://localhost:8080/",
          "height": 203
        },
        "id": "IMvK6_sLH_Pi",
        "outputId": "90d3851e-6185-422d-ab54-fc46217bcbfb"
      },
      "source": [
        "df3 = pd.read_csv('teste02/merge.csv')\n",
        "df3.head()"
      ],
      "execution_count": null,
      "outputs": [
        {
          "output_type": "execute_result",
          "data": {
            "text/html": [
              "<div>\n",
              "<style scoped>\n",
              "    .dataframe tbody tr th:only-of-type {\n",
              "        vertical-align: middle;\n",
              "    }\n",
              "\n",
              "    .dataframe tbody tr th {\n",
              "        vertical-align: top;\n",
              "    }\n",
              "\n",
              "    .dataframe thead th {\n",
              "        text-align: right;\n",
              "    }\n",
              "</style>\n",
              "<table border=\"1\" class=\"dataframe\">\n",
              "  <thead>\n",
              "    <tr style=\"text-align: right;\">\n",
              "      <th></th>\n",
              "      <th>vector_type</th>\n",
              "      <th>vector_size</th>\n",
              "      <th>iteration</th>\n",
              "      <th>execution_time</th>\n",
              "    </tr>\n",
              "  </thead>\n",
              "  <tbody>\n",
              "    <tr>\n",
              "      <th>0</th>\n",
              "      <td>0</td>\n",
              "      <td>25</td>\n",
              "      <td>1</td>\n",
              "      <td>0.000006</td>\n",
              "    </tr>\n",
              "    <tr>\n",
              "      <th>1</th>\n",
              "      <td>0</td>\n",
              "      <td>25</td>\n",
              "      <td>2</td>\n",
              "      <td>0.000012</td>\n",
              "    </tr>\n",
              "    <tr>\n",
              "      <th>2</th>\n",
              "      <td>0</td>\n",
              "      <td>25</td>\n",
              "      <td>3</td>\n",
              "      <td>0.000004</td>\n",
              "    </tr>\n",
              "    <tr>\n",
              "      <th>3</th>\n",
              "      <td>0</td>\n",
              "      <td>25</td>\n",
              "      <td>4</td>\n",
              "      <td>0.000004</td>\n",
              "    </tr>\n",
              "    <tr>\n",
              "      <th>4</th>\n",
              "      <td>0</td>\n",
              "      <td>25</td>\n",
              "      <td>5</td>\n",
              "      <td>0.000004</td>\n",
              "    </tr>\n",
              "  </tbody>\n",
              "</table>\n",
              "</div>"
            ],
            "text/plain": [
              "   vector_type  vector_size  iteration  execution_time\n",
              "0            0           25          1        0.000006\n",
              "1            0           25          2        0.000012\n",
              "2            0           25          3        0.000004\n",
              "3            0           25          4        0.000004\n",
              "4            0           25          5        0.000004"
            ]
          },
          "metadata": {},
          "execution_count": 6
        }
      ]
    },
    {
      "cell_type": "code",
      "metadata": {
        "colab": {
          "base_uri": "https://localhost:8080/",
          "height": 606
        },
        "id": "WD76yGm8IHIu",
        "outputId": "381eb523-4b24-4d4f-a5e4-d7418a1ee480"
      },
      "source": [
        "#p1 = df1.groupby('vector_size').agg(np.mean)\n",
        "#p2 = df2.groupby('vector_size').agg(np.mean)\n",
        "#p3 = df3.groupby('vector_size').agg(np.mean)\n",
        "\n",
        "p1 = df1[['vector_size', 'execution_time']].groupby('vector_size').agg(np.mean)\n",
        "p2 = df2[['vector_size', 'execution_time']].groupby('vector_size').agg(np.mean)\n",
        "p3 = df3[['vector_size', 'execution_time']].groupby('vector_size').agg(np.mean)\n",
        "\n",
        "plt.figure(figsize=[10, 10])\n",
        "plt.xlabel('Tamanho do vetor')\n",
        "plt.ylabel('Tempo de execução médio [s]')\n",
        "\n",
        "plt.plot(p1['execution_time'], 'o-', label='Bubble Sort')\n",
        "plt.plot(p2['execution_time'], 'o-', label='Insertion Sort')\n",
        "plt.plot(p3['execution_time'], 'o-', label='Merge Sort')\n",
        "\n",
        "plt.legend()\n",
        "plt.savefig('comparacao.pdf')"
      ],
      "execution_count": null,
      "outputs": [
        {
          "output_type": "display_data",
          "data": {
            "image/png": "[encoded data removed]",
            "text/plain": [
              "<Figure size 720x720 with 1 Axes>"
            ]
          },
          "metadata": {
            "needs_background": "light"
          }
        }
      ]
    },
    {
      "cell_type": "code",
      "metadata": {
        "colab": {
          "base_uri": "https://localhost:8080/"
        },
        "id": "RmZHbd-mPLE9",
        "outputId": "c0002262-0296-4247-ac89-62a68758893e"
      },
      "source": [
        "p1.to_csv(\"teste02/medias/bubble.csv\",float_format='%.6f')\n",
        "\n",
        "media1 = pd.read_csv(\"teste02/medias/bubble.csv\")\n",
        "print(media1)"
      ],
      "execution_count": null,
      "outputs": [
        {
          "output_type": "stream",
          "name": "stdout",
          "text": [
            "    vector_size  execution_time\n",
            "0            25        0.000003\n",
            "1           100        0.000038\n",
            "2           500        0.000756\n",
            "3          1000        0.002265\n",
            "4          2500        0.014865\n",
            "5          5000        0.066596\n",
            "6          7500        0.164222\n",
            "7         10000        0.296579\n",
            "8         15000        0.698452\n",
            "9         20000        1.245493\n",
            "10        25000        2.000412\n",
            "11        30000        2.894625\n",
            "12        35000        3.907826\n",
            "13        40000        5.158371\n",
            "14        45000        6.510746\n",
            "15        50000        8.098092\n"
          ]
        }
      ]
    },
    {
      "cell_type": "code",
      "metadata": {
        "colab": {
          "base_uri": "https://localhost:8080/"
        },
        "id": "DDtpa9wOR6V0",
        "outputId": "f2f41d96-d9e5-4299-e089-03dadd182bf9"
      },
      "source": [
        "p2.to_csv(\"teste02/medias/insertion.csv\",float_format='%.6f')\n",
        "\n",
        "media2 = pd.read_csv(\"teste02/medias/insertion.csv\")\n",
        "print(media2)"
      ],
      "execution_count": null,
      "outputs": [
        {
          "output_type": "stream",
          "name": "stdout",
          "text": [
            "    vector_size  execution_time\n",
            "0            25        0.000002\n",
            "1           100        0.000013\n",
            "2           500        0.000249\n",
            "3          1000        0.000772\n",
            "4          2500        0.005047\n",
            "5          5000        0.020300\n",
            "6          7500        0.046901\n",
            "7         10000        0.078389\n",
            "8         15000        0.176235\n",
            "9         20000        0.318745\n",
            "10        25000        0.486748\n",
            "11        30000        0.702058\n",
            "12        35000        0.939350\n",
            "13        40000        1.231537\n",
            "14        45000        1.563532\n",
            "15        50000        1.920094\n"
          ]
        }
      ]
    },
    {
      "cell_type": "code",
      "metadata": {
        "colab": {
          "base_uri": "https://localhost:8080/"
        },
        "id": "ro5qYZYoSMdA",
        "outputId": "b52e0f27-61d8-45c7-fe11-c9ca2c3f502f"
      },
      "source": [
        "p3.to_csv(\"teste02/medias/merge.csv\",float_format='%.6f')\n",
        "\n",
        "media3 = pd.read_csv(\"teste02/medias/merge.csv\")\n",
        "print(media3)"
      ],
      "execution_count": null,
      "outputs": [
        {
          "output_type": "stream",
          "name": "stdout",
          "text": [
            "    vector_size  execution_time\n",
            "0            25        0.000005\n",
            "1           100        0.000015\n",
            "2           500        0.000081\n",
            "3          1000        0.000151\n",
            "4          2500        0.000432\n",
            "5          5000        0.000853\n",
            "6          7500        0.001350\n",
            "7         10000        0.001787\n",
            "8         15000        0.002885\n",
            "9         20000        0.003837\n",
            "10        25000        0.004968\n",
            "11        30000        0.005932\n",
            "12        35000        0.006980\n",
            "13        40000        0.007958\n",
            "14        45000        0.009022\n",
            "15        50000        0.010178\n"
          ]
        }
      ]
    },
    {
      "cell_type": "markdown",
      "metadata": {
        "id": "Ef7ZdXTOUBNT"
      },
      "source": [
        "# Melhor e pior caso com vetores de tamanho 1000"
      ]
    },
    {
      "cell_type": "code",
      "metadata": {
        "colab": {
          "base_uri": "https://localhost:8080/"
        },
        "id": "Vj0QX-DrUTA5",
        "outputId": "61f50188-e26b-4e65-df79-19418626ab70"
      },
      "source": [
        "mp1 = pd.read_csv('teste03/bubble.csv')\n",
        "mp2 = pd.read_csv('teste03/insertion.csv')\n",
        "mp3 = pd.read_csv('teste03/merge.csv')\n",
        "\n",
        "mmp1 = mp1[['vector_type','execution_time']].groupby('vector_type').agg(np.mean)\n",
        "mmp2 = mp2[['vector_type','execution_time']].groupby('vector_type').agg(np.mean)\n",
        "mmp3 = mp3[['vector_type','execution_time']].groupby('vector_type').agg(np.mean)\n",
        "\n",
        "mmp1.to_csv(\"teste03/medias/bubble.csv\",float_format='%.6f')\n",
        "mmp2.to_csv(\"teste03/medias/insertion.csv\",float_format='%.6f')\n",
        "mmp3.to_csv(\"teste03/medias/merge.csv\",float_format='%.6f')\n",
        "\n",
        "mmp1 = pd.read_csv(\"teste03/medias/bubble.csv\")\n",
        "mmp2 = pd.read_csv(\"teste03/medias/insertion.csv\")\n",
        "mmp3 = pd.read_csv(\"teste03/medias/merge.csv\")\n",
        "\n",
        "print(mmp1)\n",
        "print(mmp2)\n",
        "print(mmp3)"
      ],
      "execution_count": null,
      "outputs": [
        {
          "output_type": "stream",
          "name": "stdout",
          "text": [
            "   vector_type  execution_time\n",
            "0            0        0.003206\n",
            "1            1        0.001963\n",
            "2            2        0.003650\n",
            "   vector_type  execution_time\n",
            "0            0        0.000924\n",
            "1            1        0.000006\n",
            "2            2        0.001849\n",
            "   vector_type  execution_time\n",
            "0            0        0.000182\n",
            "1            1        0.000121\n",
            "2            2        0.000121\n"
          ]
        }
      ]
    }
  ]
}